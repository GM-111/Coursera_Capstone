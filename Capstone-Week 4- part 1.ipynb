{
 "cells": [
  {
   "cell_type": "markdown",
   "metadata": {
    "collapsed": true
   },
   "source": [
    "# A- Introduction and Business Problem"
   ]
  },
  {
   "cell_type": "markdown",
   "metadata": {},
   "source": [
    "### A company who sells chocolate wants to enter a new market while segmenting coffee shops. This company wants to know the most recommended places in Canada to start a social media marketing campaign. The region has to be relatively small with a high number of coffee shops with good ratings."
   ]
  },
  {
   "cell_type": "markdown",
   "metadata": {},
   "source": [
    "### To provide the best recommendations for the chocolate company, we propose to choose a well-connected city with a relatively big population. Then, we will find the coffee shops with the highest frequencies and choose among them the best places depending on ratings."
   ]
  },
  {
   "cell_type": "markdown",
   "metadata": {},
   "source": [
    "### For the location, we proposed Toronto for the following reasons:\n",
    "1-\tToronto is the capital of Ontario and is the most populated city in Canada (around 3 million in 2018). Toronto census metropolitan area (CMA) has a population of approximately 6 million. Therefore, it is Canada's most populous metropolis."
   ]
  },
  {
   "cell_type": "markdown",
   "metadata": {},
   "source": [
    "2-\tToronto is also an international center of “business, finance, arts, and culture, and is recognized as one of the most multicultural and cosmopolitan cities in the world” as per Wikipedia."
   ]
  },
  {
   "cell_type": "markdown",
   "metadata": {},
   "source": [
    "3-\tToronto area is interspersed with rivers, ravines and forests. Its current area is 630.2 km2.The city has a diverse population and is an important destination for immigrants to Canada."
   ]
  },
  {
   "cell_type": "markdown",
   "metadata": {},
   "source": [
    "4-\tThe city is a center for music, theatre, movie productionand television production. It contains cultural institutions like museums, galleries, festival and entertainment districts, national historic sites, and sports centers with over 43 million tourists each year."
   ]
  },
  {
   "cell_type": "markdown",
   "metadata": {},
   "source": [
    "5-\tToronto Stock Exchange (the headquarters of Canada's five largest banks)and multinational corporations are also located at Toronto. Also as per Wikipedia, “Its economy is highly diversified with strengths in technology, design, financial services, life sciences, education, arts, fashion, aerospace, environmental innovation, food services, and tourism.”"
   ]
  },
  {
   "cell_type": "markdown",
   "metadata": {},
   "source": [
    "6-\tToronto is a great distribution point for the industrial sector. The city has a strategic position along the Quebec City–Windsor Corridor and has well connected infrastructure, roads and rails linking it to the surrounding cities."
   ]
  },
  {
   "cell_type": "markdown",
   "metadata": {},
   "source": [
    "### Therefore, as part of this project, we will list and visualize all coffee shops that would be our target in the social media marketing strategy for selling new chocolate bars in Toronto City. They will have the highest frequencies in their neighborhoods and good ratings."
   ]
  },
  {
   "cell_type": "code",
   "execution_count": null,
   "metadata": {},
   "outputs": [],
   "source": []
  }
 ],
 "metadata": {
  "kernelspec": {
   "display_name": "Python 3.6",
   "language": "python",
   "name": "python3"
  },
  "language_info": {
   "codemirror_mode": {
    "name": "ipython",
    "version": 3
   },
   "file_extension": ".py",
   "mimetype": "text/x-python",
   "name": "python",
   "nbconvert_exporter": "python",
   "pygments_lexer": "ipython3",
   "version": "3.6.9"
  }
 },
 "nbformat": 4,
 "nbformat_minor": 1
}
